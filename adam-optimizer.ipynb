{
 "cells": [
  {
   "cell_type": "code",
   "execution_count": 1,
   "id": "12a4e27c",
   "metadata": {
    "_cell_guid": "b1076dfc-b9ad-4769-8c92-a6c4dae69d19",
    "_uuid": "8f2839f25d086af736a60e9eeb907d3b93b6e0e5",
    "execution": {
     "iopub.execute_input": "2024-08-01T00:32:50.793154Z",
     "iopub.status.busy": "2024-08-01T00:32:50.792730Z",
     "iopub.status.idle": "2024-08-01T00:32:55.728356Z",
     "shell.execute_reply": "2024-08-01T00:32:55.727027Z"
    },
    "papermill": {
     "duration": 4.942642,
     "end_time": "2024-08-01T00:32:55.731372",
     "exception": false,
     "start_time": "2024-08-01T00:32:50.788730",
     "status": "completed"
    },
    "tags": []
   },
   "outputs": [],
   "source": [
    "import numpy as np \n",
    "import pandas as pd \n",
    "import torch\n",
    "import os\n",
    "for dirname, _, filenames in os.walk('/kaggle/input'):\n",
    "    for filename in filenames:\n",
    "        print(os.path.join(dirname, filename))"
   ]
  },
  {
   "cell_type": "code",
   "execution_count": 2,
   "id": "075ee2be",
   "metadata": {
    "execution": {
     "iopub.execute_input": "2024-08-01T00:32:55.737956Z",
     "iopub.status.busy": "2024-08-01T00:32:55.737406Z",
     "iopub.status.idle": "2024-08-01T00:32:55.748830Z",
     "shell.execute_reply": "2024-08-01T00:32:55.747185Z"
    },
    "papermill": {
     "duration": 0.017216,
     "end_time": "2024-08-01T00:32:55.751231",
     "exception": false,
     "start_time": "2024-08-01T00:32:55.734015",
     "status": "completed"
    },
    "tags": []
   },
   "outputs": [],
   "source": [
    "class Adam:\n",
    "    def __init__(self, paramaters, lr, weight_decay, eps, betas=(0.9, 0.999)):\n",
    "        self.paramaters = list(paramaters) \n",
    "        self.lr = lr\n",
    "        self.wd = weight_decay\n",
    "        self.b1, self.b2 = betas\n",
    "        self.eps = eps\n",
    "        self.counter = 1\n",
    "        self.means = [torch.zeros_like(p) for p in self.parameters]\n",
    "        self.variances = [torch.zeros_like(p) for p in self.parameters]\n",
    "\n",
    "    def zero_grad(self):\n",
    "        for p in self.parameters:\n",
    "            p.grad = None\n",
    "\n",
    "    @torch.inference_mode()\n",
    "    def step(self):\n",
    "        for i, (parameter, mean, variance) in enumerate(zip(self.parameters, self.means, self.variances)):\n",
    "            temp_grad = parameter.grad\n",
    "            if self.wd != 0:\n",
    "                temp_grad = temp_grad + self.wd*parameter\n",
    "            temp_mean = self.b1*mean + (1-self.b1)*temp_grad\n",
    "            temp_var =  self.b2*variance + (1-self.b2)*temp_grad.pow(2)\n",
    "            mean_hat = temp_mean/(1 - self.b1**self.counter)\n",
    "            var_hat = temp_var/(1 - self.b2**self.counter)\n",
    "            self.means[i] = temp_mean\n",
    "            self.variances[i] = temp_var\n",
    "            self.parameters[i] -= self.lr*mean_hat/(var_hat.sqrt() + self.eps)\n",
    "        self.counter += 1"
   ]
  }
 ],
 "metadata": {
  "kaggle": {
   "accelerator": "none",
   "dataSources": [],
   "dockerImageVersionId": 30746,
   "isGpuEnabled": false,
   "isInternetEnabled": true,
   "language": "python",
   "sourceType": "notebook"
  },
  "kernelspec": {
   "display_name": "Python 3",
   "language": "python",
   "name": "python3"
  },
  "language_info": {
   "codemirror_mode": {
    "name": "ipython",
    "version": 3
   },
   "file_extension": ".py",
   "mimetype": "text/x-python",
   "name": "python",
   "nbconvert_exporter": "python",
   "pygments_lexer": "ipython3",
   "version": "3.10.13"
  },
  "papermill": {
   "default_parameters": {},
   "duration": 8.929219,
   "end_time": "2024-08-01T00:32:56.775892",
   "environment_variables": {},
   "exception": null,
   "input_path": "__notebook__.ipynb",
   "output_path": "__notebook__.ipynb",
   "parameters": {},
   "start_time": "2024-08-01T00:32:47.846673",
   "version": "2.5.0"
  }
 },
 "nbformat": 4,
 "nbformat_minor": 5
}
