{
 "cells": [
  {
   "cell_type": "code",
   "execution_count": 1,
   "id": "3a9eff20",
   "metadata": {
    "_cell_guid": "b1076dfc-b9ad-4769-8c92-a6c4dae69d19",
    "_uuid": "8f2839f25d086af736a60e9eeb907d3b93b6e0e5",
    "execution": {
     "iopub.execute_input": "2024-07-31T23:59:03.067219Z",
     "iopub.status.busy": "2024-07-31T23:59:03.066764Z",
     "iopub.status.idle": "2024-07-31T23:59:07.282220Z",
     "shell.execute_reply": "2024-07-31T23:59:07.281166Z"
    },
    "papermill": {
     "duration": 4.222572,
     "end_time": "2024-07-31T23:59:07.285237",
     "exception": false,
     "start_time": "2024-07-31T23:59:03.062665",
     "status": "completed"
    },
    "tags": []
   },
   "outputs": [],
   "source": [
    "import numpy as np \n",
    "import torch \n",
    "import os\n",
    "for dirname, _, filenames in os.walk('/kaggle/input'):\n",
    "    for filename in filenames:\n",
    "        print(os.path.join(dirname, filename))\n"
   ]
  },
  {
   "cell_type": "code",
   "execution_count": 2,
   "id": "c7ef5642",
   "metadata": {
    "execution": {
     "iopub.execute_input": "2024-07-31T23:59:07.291491Z",
     "iopub.status.busy": "2024-07-31T23:59:07.290983Z",
     "iopub.status.idle": "2024-07-31T23:59:07.302041Z",
     "shell.execute_reply": "2024-07-31T23:59:07.300715Z"
    },
    "papermill": {
     "duration": 0.016732,
     "end_time": "2024-07-31T23:59:07.304362",
     "exception": false,
     "start_time": "2024-07-31T23:59:07.287630",
     "status": "completed"
    },
    "tags": []
   },
   "outputs": [],
   "source": [
    "class SGD:\n",
    "    def __init__(self, paramaters, lr, momentum, weight_decay):\n",
    "        self.paramaters = list(paramaters) \n",
    "        self.lr = lr\n",
    "        self.momentum = momentum\n",
    "        self.wd = weight_decay\n",
    "        self.counter = 0\n",
    "        self.gradients = [torch.zeros_like(p) for p in self.parameters]\n",
    "\n",
    "\n",
    "    def zero_grad(self):\n",
    "        for p in self.parameters:\n",
    "            p.grad = None\n",
    "\n",
    "    @torch.inference_mode()\n",
    "    def step(self):\n",
    "        for i, (gradient, parameter) in enumerate(zip(self.gradients, self.paramaters)):\n",
    "            temp_grad = parameter.grad\n",
    "            if self.wd != 0:\n",
    "                temp_grad = temp_grad + self.wd*parameter\n",
    "            if self.momentum != 0 and self.counter > 1:\n",
    "                temp_grad = (self.momentum * gradient) + temp_grad\n",
    "            self.parameters[i] -= self.lr*temp_grad\n",
    "            self.gradients[i] -= temp_grad\n",
    "        self.counter += 1"
   ]
  }
 ],
 "metadata": {
  "kaggle": {
   "accelerator": "none",
   "dataSources": [],
   "dockerImageVersionId": 30746,
   "isGpuEnabled": false,
   "isInternetEnabled": true,
   "language": "python",
   "sourceType": "notebook"
  },
  "kernelspec": {
   "display_name": "Python 3",
   "language": "python",
   "name": "python3"
  },
  "language_info": {
   "codemirror_mode": {
    "name": "ipython",
    "version": 3
   },
   "file_extension": ".py",
   "mimetype": "text/x-python",
   "name": "python",
   "nbconvert_exporter": "python",
   "pygments_lexer": "ipython3",
   "version": "3.10.13"
  },
  "papermill": {
   "default_parameters": {},
   "duration": 8.476035,
   "end_time": "2024-07-31T23:59:08.231118",
   "environment_variables": {},
   "exception": null,
   "input_path": "__notebook__.ipynb",
   "output_path": "__notebook__.ipynb",
   "parameters": {},
   "start_time": "2024-07-31T23:58:59.755083",
   "version": "2.5.0"
  }
 },
 "nbformat": 4,
 "nbformat_minor": 5
}
